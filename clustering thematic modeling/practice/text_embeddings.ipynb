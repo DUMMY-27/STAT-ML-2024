{
 "cells": [
  {
   "cell_type": "code",
   "execution_count": null,
   "metadata": {},
   "outputs": [],
   "source": [
    "import re\n",
    "import fasttext\n",
    "import numpy as np\n",
    "import pandas as pd\n",
    "\n",
    "\n",
    "from string import punctuation\n",
    "\n",
    "\n",
    "from sklearn.linear_model import LogisticRegression\n",
    "from sklearn.model_selection import StratifiedKFold\n",
    "from sklearn.metrics import (\n",
    "    accuracy_score,\n",
    "    roc_auc_score,\n",
    "    roc_curve\n",
    ")\n",
    "\n",
    "\n",
    "from matplotlib import pyplot as plt"
   ]
  },
  {
   "cell_type": "code",
   "execution_count": null,
   "metadata": {},
   "outputs": [],
   "source": [
    "punctuation = set(punctuation)"
   ]
  },
  {
   "cell_type": "markdown",
   "metadata": {},
   "source": [
    "## Sentiment analysis\n",
    "\n",
    "### 1 Предобработка данных\n",
    "\n",
    "Загрузим данные."
   ]
  },
  {
   "cell_type": "code",
   "execution_count": null,
   "metadata": {},
   "outputs": [],
   "source": [
    "polariry_dataset = pd.read_csv(\"data/polarity-dataset.csv\", skiprows=1, names=[\"text\", \"label\"])\n",
    "\n",
    "polariry_dataset.head()"
   ]
  },
  {
   "cell_type": "markdown",
   "metadata": {},
   "source": [
    "Уберем лишние знаки пунктуации."
   ]
  },
  {
   "cell_type": "code",
   "execution_count": null,
   "metadata": {},
   "outputs": [],
   "source": [
    "def is_digit(string: str) -> bool:\n",
    "    return re.sub(r\"[,.]\", \"\", string, count=1).isdigit()"
   ]
  },
  {
   "cell_type": "code",
   "execution_count": null,
   "metadata": {},
   "outputs": [],
   "source": [
    "polariry_dataset[\"text_clean\"] = polariry_dataset[\"text\"].apply(lambda x: [token for token in x.split() if (token not in punctuation) and (not is_digit(token))])\n",
    "\n",
    "polariry_dataset[\"text_clean\"] = polariry_dataset[\"text_clean\"].str.join(\" \")"
   ]
  },
  {
   "cell_type": "markdown",
   "metadata": {},
   "source": [
    "Напишем функции для записи данных в файл."
   ]
  },
  {
   "cell_type": "code",
   "execution_count": null,
   "metadata": {},
   "outputs": [],
   "source": [
    "def to_file(path: str, texts: list) -> None:\n",
    "    with open(path, mode=\"w\") as file:\n",
    "        for text in texts:\n",
    "            file.write(f\"{text}\\n\")"
   ]
  },
  {
   "cell_type": "markdown",
   "metadata": {},
   "source": [
    "### 2 Тестирование модели\n",
    "\n",
    "#### 2.1 Custom embeddings"
   ]
  },
  {
   "cell_type": "code",
   "execution_count": null,
   "metadata": {},
   "outputs": [],
   "source": [
    "stratified_kfold = StratifiedKFold(n_splits=5, shuffle=True, random_state=42)\n",
    "\n",
    "\n",
    "roc_auc_scores = []\n",
    "for i, (train_index, test_index) in enumerate(stratified_kfold.split(polariry_dataset[\"text_clean\"], polariry_dataset[\"label\"])):\n",
    "    X_train, y_train = polariry_dataset.loc[train_index, \"text_clean\"].values, polariry_dataset.loc[train_index, \"label\"].values\n",
    "    X_test , y_test  = polariry_dataset.loc[test_index,  \"text_clean\"].values, polariry_dataset.loc[test_index,  \"label\"].values\n",
    "    \n",
    "    to_file(\"train.txt\", X_train)\n",
    "    \n",
    "    model = fasttext.train_unsupervised(\n",
    "        input=\"train.txt\",\n",
    "        model=\"skipgram\",\n",
    "        lr=0.1,\n",
    "        dim=300,\n",
    "        ws=5,\n",
    "        epoch=25,\n",
    "        minCount=5,\n",
    "        minn=3,\n",
    "        maxn=6,\n",
    "        wordNgrams=3,\n",
    "        loss=\"softmax\",\n",
    "        thread=10,\n",
    "        verbose=False\n",
    "    )\n",
    "    \n",
    "    X_train_embeddings = np.array([model.get_sentence_vector(text) for text in X_train])\n",
    "    \n",
    "    clf = LogisticRegression(C=5)\n",
    "    clf.fit(X_train_embeddings, y_train)\n",
    "    \n",
    "    X_test_embeddings  = np.array([model.get_sentence_vector(text) for text in X_test])\n",
    "    \n",
    "    y_pred_proba = clf.predict_proba(X_test_embeddings)\n",
    "    \n",
    "    roc_auc_scores.append(roc_auc_score(y_test, y_pred_proba[:, 1]))\n",
    "    print(f\"split {i} | roc_auc_score: {roc_auc_scores[-1]}\")\n",
    "    \n",
    "print(f\"roc_auc_score mean: {np.mean(roc_auc_scores)}\")"
   ]
  },
  {
   "cell_type": "markdown",
   "metadata": {},
   "source": [
    "#### 2.2 Pre-trained embeddings\n",
    "\n",
    "Скачать эмбеддинги: https://fasttext.cc/docs/en/python-module.html"
   ]
  },
  {
   "cell_type": "code",
   "execution_count": null,
   "metadata": {},
   "outputs": [],
   "source": [
    "model = fasttext.load_model(\"/Users/samarin.ia/study/notebooks/hw1/model/cc.ru.300.bin\")"
   ]
  },
  {
   "cell_type": "code",
   "execution_count": null,
   "metadata": {},
   "outputs": [],
   "source": [
    "stratified_kfold = StratifiedKFold(n_splits=5, shuffle=True, random_state=42)\n",
    "\n",
    "\n",
    "roc_auc_scores = []\n",
    "for i, (train_index, test_index) in enumerate(stratified_kfold.split(polariry_dataset[\"text_clean\"], polariry_dataset[\"label\"])):\n",
    "    X_train, y_train = polariry_dataset.loc[train_index, \"text_clean\"].values, polariry_dataset.loc[train_index, \"label\"].values\n",
    "    X_test , y_test  = polariry_dataset.loc[test_index,  \"text_clean\"].values, polariry_dataset.loc[test_index,  \"label\"].values\n",
    "    \n",
    "    X_train_embeddings = np.array([model.get_sentence_vector(text) for text in X_train])\n",
    "    \n",
    "    clf = LogisticRegression(C=5)\n",
    "    clf.fit(X_train_embeddings, y_train)\n",
    "    \n",
    "    X_test_embeddings  = np.array([model.get_sentence_vector(text) for text in X_test])\n",
    "    \n",
    "    y_pred_proba = clf.predict_proba(X_test_embeddings)\n",
    "    \n",
    "    roc_auc_scores.append(roc_auc_score(y_test, y_pred_proba[:, 1]))\n",
    "    print(f\"split {i} | roc_auc_score: {roc_auc_scores[-1]}\")\n",
    "    \n",
    "print(f\"roc_auc_score mean: {np.mean(roc_auc_scores)}\")"
   ]
  },
  {
   "cell_type": "code",
   "execution_count": null,
   "metadata": {},
   "outputs": [],
   "source": []
  }
 ],
 "metadata": {
  "kernelspec": {
   "display_name": "ml-search-proj-6jnEKmKf-py3.12",
   "language": "python",
   "name": "python3"
  },
  "language_info": {
   "codemirror_mode": {
    "name": "ipython",
    "version": 3
   },
   "file_extension": ".py",
   "mimetype": "text/x-python",
   "name": "python",
   "nbconvert_exporter": "python",
   "pygments_lexer": "ipython3",
   "version": "3.12.2"
  }
 },
 "nbformat": 4,
 "nbformat_minor": 2
}
